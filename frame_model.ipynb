{
  "nbformat": 4,
  "nbformat_minor": 0,
  "metadata": {
    "colab": {
      "provenance": []
    },
    "kernelspec": {
      "name": "python3",
      "display_name": "Python 3"
    },
    "language_info": {
      "name": "python"
    }
  },
  "cells": [
    {
      "cell_type": "code",
      "source": [
        "import graphviz"
      ],
      "metadata": {
        "id": "CWTnBRk59jul"
      },
      "execution_count": null,
      "outputs": []
    },
    {
      "cell_type": "code",
      "source": [
        "data = {\n",
        "  \"entities\": [\n",
        "    {\n",
        "      \"name\": \"Program\",\n",
        "      \"attributes\": {\n",
        "        \"description\": \"Software system for tomographic image analysis\",\n",
        "        \"functionality\": \"Analyzing tomographic images for defect detection\",\n",
        "        \"components\": [\"Neural Network\", \"Intelligent Interface\"]\n",
        "      }\n",
        "    },\n",
        "    {\n",
        "      \"name\": \"Analysis\",\n",
        "      \"attributes\": {\n",
        "        \"purpose\": \"Defect detection in materials\",\n",
        "        \"methods\": [\"Neural Network\"]\n",
        "      }\n",
        "    },\n",
        "    {\n",
        "      \"name\": \"DefectDetection\",\n",
        "      \"attributes\": {\n",
        "        \"target\": \"Polymeric materials\",\n",
        "        \"techniques\": [\"Tomographic image analysis\"]\n",
        "      }\n",
        "    },\n",
        "    {\n",
        "      \"name\": \"PolymericMaterials\",\n",
        "      \"attributes\": {\n",
        "        \"properties\": [\"Unique characteristics\", \"Usage in various industries\"]\n",
        "      }\n",
        "    },\n",
        "    {\n",
        "      \"name\": \"NeuralNetwork\",\n",
        "      \"attributes\": {\n",
        "        \"type\": \"Artificial neural network\",\n",
        "        \"architecture\": \"Deep learning model\",\n",
        "        \"training_data\": \"Tomographic image datasets\"\n",
        "      }\n",
        "    },\n",
        "    {\n",
        "      \"name\": \"IntelligentInterface\",\n",
        "      \"attributes\": {\n",
        "        \"functionality\": \"User-friendly interface for interacting with the system\",\n",
        "        \"features\": [\"Visualization of analysis results\", \"Interactive controls\"]\n",
        "      }\n",
        "    }\n",
        "  ],\n",
        "  \"associations\": [\n",
        "    {\"from\": \"Program\", \"to\": \"Analysis\", \"type\": \"Utilizes\"},\n",
        "    {\"from\": \"Analysis\", \"to\": \"DefectDetection\", \"type\": \"FocusesOn\"},\n",
        "    {\"from\": \"DefectDetection\", \"to\": \"PolymericMaterials\", \"type\": \"Targets\"},\n",
        "    {\"from\": \"Program\", \"to\": \"NeuralNetwork\", \"type\": \"Deploys\"},\n",
        "    {\"from\": \"Program\", \"to\": \"IntelligentInterface\", \"type\": \"Incorporates\"}\n",
        "  ],\n",
        "  \"rules\": [\n",
        "    {\n",
        "      \"name\": \"Rule 1 High Confidence Defects\",\n",
        "      \"condition\": \"Analysis confidenceLevel more then 0.8\",\n",
        "      \"action\": \"Flag the image for further review\",\n",
        "      \"subject\": ['DefectDetection', 'Analysis']\n",
        "    },\n",
        "    {\n",
        "      \"name\": \"Rule 2 Material Specific Analysis\",\n",
        "      \"condition\": \"DefectDetection target is Polymeric materials\",\n",
        "      \"action\": \"Apply specific algorithms for polymeric materials\",\n",
        "      \"subject\": ['PolymericMaterials', 'Analysis']\n",
        "    }\n",
        "  ]\n",
        "}"
      ],
      "metadata": {
        "id": "NW05VMRv9oNK"
      },
      "execution_count": null,
      "outputs": []
    },
    {
      "cell_type": "code",
      "execution_count": null,
      "metadata": {
        "id": "eo59Ax5E3HkN"
      },
      "outputs": [],
      "source": [
        "entities = data['entities']\n",
        "associations = data['associations']\n",
        "rules = data.get('rules', [])\n",
        "\n",
        "\n",
        "dot = graphviz.Digraph()\n",
        "\n",
        "for entity in entities:\n",
        "    attributes = entity.get('attributes', {})\n",
        "\n",
        "    attributes_str = \"<BR/>\".join([f\"<B>{key}:</B> {value}\" for key, value in attributes.items()])\n",
        "    label = f'<<TABLE BORDER=\"1\" CELLBORDER=\"1\" CELLPADDING=\"4\"><TR><TD>{entity[\"name\"]}</TD></TR><TR><TD PORT=\"attributes\">{attributes_str}</TD></TR></TABLE>>'\n",
        "    dot.node(entity[\"name\"], label, shape=\"none\")\n",
        "\n",
        "for association in associations:\n",
        "    dot.edge(association[\"from\"], association[\"to\"], label=association[\"type\"])\n",
        "\n",
        "for rule in rules:\n",
        "    for subj in rule['subject']:\n",
        "      rule_str = f'{rule[\"name\"]}\\n IF {rule[\"condition\"]}\\n THEN {rule[\"action\"]}'\n",
        "      dot.edge(rule_str, subj, label=\"affects\")"
      ]
    },
    {
      "cell_type": "code",
      "source": [
        "dot"
      ],
      "metadata": {
        "colab": {
          "base_uri": "https://localhost:8080/",
          "height": 698
        },
        "id": "A0ahXSkL4hGL",
        "outputId": "7105c117-878a-4c26-fcd9-9aac900066ec"
      },
      "execution_count": null,
      "outputs": [
        {
          "output_type": "execute_result",
          "data": {
            "image/svg+xml": "<?xml version=\"1.0\" encoding=\"UTF-8\" standalone=\"no\"?>\n<!DOCTYPE svg PUBLIC \"-//W3C//DTD SVG 1.1//EN\"\n \"http://www.w3.org/Graphics/SVG/1.1/DTD/svg11.dtd\">\n<!-- Generated by graphviz version 2.43.0 (0)\n -->\n<!-- Title: %3 Pages: 1 -->\n<svg width=\"1539pt\" height=\"492pt\"\n viewBox=\"0.00 0.00 1539.47 492.00\" xmlns=\"http://www.w3.org/2000/svg\" xmlns:xlink=\"http://www.w3.org/1999/xlink\">\n<g id=\"graph0\" class=\"graph\" transform=\"scale(1 1) rotate(0) translate(4 488)\">\n<title>%3</title>\n<polygon fill=\"white\" stroke=\"transparent\" points=\"-4,4 -4,-488 1535.47,-488 1535.47,4 -4,4\"/>\n<!-- Program -->\n<g id=\"node1\" class=\"node\">\n<title>Program</title>\n<polygon fill=\"none\" stroke=\"black\" points=\"881.47,-451.5 881.47,-476.5 1255.47,-476.5 1255.47,-451.5 881.47,-451.5\"/>\n<text text-anchor=\"start\" x=\"1044.47\" y=\"-460.3\" font-family=\"Times,serif\" font-size=\"14.00\">Program</text>\n<polygon fill=\"none\" stroke=\"black\" points=\"881.47,-397.5 881.47,-449.5 1255.47,-449.5 1255.47,-397.5 881.47,-397.5\"/>\n<text text-anchor=\"start\" x=\"897.47\" y=\"-434.3\" font-family=\"Times,serif\" font-weight=\"bold\" font-size=\"14.00\">description:</text>\n<text text-anchor=\"start\" x=\"967.47\" y=\"-434.3\" font-family=\"Times,serif\" font-size=\"14.00\"> Software system for tomographic image analysis</text>\n<text text-anchor=\"start\" x=\"886.47\" y=\"-420.3\" font-family=\"Times,serif\" font-weight=\"bold\" font-size=\"14.00\">functionality:</text>\n<text text-anchor=\"start\" x=\"965.47\" y=\"-420.3\" font-family=\"Times,serif\" font-size=\"14.00\"> Analyzing tomographic images for defect detection</text>\n<text text-anchor=\"start\" x=\"918.47\" y=\"-406.3\" font-family=\"Times,serif\" font-weight=\"bold\" font-size=\"14.00\">components:</text>\n<text text-anchor=\"start\" x=\"993.47\" y=\"-406.3\" font-family=\"Times,serif\" font-size=\"14.00\"> [&#39;Neural Network&#39;, &#39;Intelligent Interface&#39;]</text>\n<polygon fill=\"none\" stroke=\"black\" points=\"878.47,-395 878.47,-480 1258.47,-480 1258.47,-395 878.47,-395\"/>\n</g>\n<!-- Analysis -->\n<g id=\"node2\" class=\"node\">\n<title>Analysis</title>\n<polygon fill=\"none\" stroke=\"black\" points=\"399.47,-300.5 399.47,-325.5 623.47,-325.5 623.47,-300.5 399.47,-300.5\"/>\n<text text-anchor=\"start\" x=\"487.47\" y=\"-309.3\" font-family=\"Times,serif\" font-size=\"14.00\">Analysis</text>\n<polygon fill=\"none\" stroke=\"black\" points=\"399.47,-260.5 399.47,-298.5 623.47,-298.5 623.47,-260.5 399.47,-260.5\"/>\n<text text-anchor=\"start\" x=\"404.47\" y=\"-283.3\" font-family=\"Times,serif\" font-weight=\"bold\" font-size=\"14.00\">purpose:</text>\n<text text-anchor=\"start\" x=\"456.47\" y=\"-283.3\" font-family=\"Times,serif\" font-size=\"14.00\"> Defect detection in materials</text>\n<text text-anchor=\"start\" x=\"430.97\" y=\"-269.3\" font-family=\"Times,serif\" font-weight=\"bold\" font-size=\"14.00\">methods:</text>\n<text text-anchor=\"start\" x=\"485.97\" y=\"-269.3\" font-family=\"Times,serif\" font-size=\"14.00\"> [&#39;Neural Network&#39;]</text>\n<polygon fill=\"none\" stroke=\"black\" points=\"396.47,-258 396.47,-329 626.47,-329 626.47,-258 396.47,-258\"/>\n</g>\n<!-- Program&#45;&gt;Analysis -->\n<g id=\"edge1\" class=\"edge\">\n<title>Program&#45;&gt;Analysis</title>\n<path fill=\"none\" stroke=\"black\" d=\"M870.41,-392.87C783.13,-373.25 690.88,-351.89 648.47,-340 643.88,-338.71 639.22,-337.37 634.53,-335.98\"/>\n<polygon fill=\"black\" stroke=\"black\" points=\"635.43,-332.6 624.84,-333.07 633.41,-339.3 635.43,-332.6\"/>\n<text text-anchor=\"middle\" x=\"801.97\" y=\"-361.8\" font-family=\"Times,serif\" font-size=\"14.00\">Utilizes</text>\n</g>\n<!-- NeuralNetwork -->\n<g id=\"node5\" class=\"node\">\n<title>NeuralNetwork</title>\n<polygon fill=\"none\" stroke=\"black\" points=\"838.47,-307.5 838.47,-332.5 1092.47,-332.5 1092.47,-307.5 838.47,-307.5\"/>\n<text text-anchor=\"start\" x=\"922.97\" y=\"-316.3\" font-family=\"Times,serif\" font-size=\"14.00\">NeuralNetwork</text>\n<polygon fill=\"none\" stroke=\"black\" points=\"838.47,-253.5 838.47,-305.5 1092.47,-305.5 1092.47,-253.5 838.47,-253.5\"/>\n<text text-anchor=\"start\" x=\"880.97\" y=\"-290.3\" font-family=\"Times,serif\" font-weight=\"bold\" font-size=\"14.00\">type:</text>\n<text text-anchor=\"start\" x=\"910.97\" y=\"-290.3\" font-family=\"Times,serif\" font-size=\"14.00\"> Artificial neural network</text>\n<text text-anchor=\"start\" x=\"867.97\" y=\"-276.3\" font-family=\"Times,serif\" font-weight=\"bold\" font-size=\"14.00\">architecture:</text>\n<text text-anchor=\"start\" x=\"943.97\" y=\"-276.3\" font-family=\"Times,serif\" font-size=\"14.00\"> Deep learning model</text>\n<text text-anchor=\"start\" x=\"843.47\" y=\"-262.3\" font-family=\"Times,serif\" font-weight=\"bold\" font-size=\"14.00\">training_data:</text>\n<text text-anchor=\"start\" x=\"927.47\" y=\"-262.3\" font-family=\"Times,serif\" font-size=\"14.00\"> Tomographic image datasets</text>\n<polygon fill=\"none\" stroke=\"black\" points=\"835.47,-251 835.47,-336 1095.47,-336 1095.47,-251 835.47,-251\"/>\n</g>\n<!-- Program&#45;&gt;NeuralNetwork -->\n<g id=\"edge4\" class=\"edge\">\n<title>Program&#45;&gt;NeuralNetwork</title>\n<path fill=\"none\" stroke=\"black\" d=\"M1035.31,-390.79C1025.48,-377.23 1014.62,-362.26 1004.45,-348.25\"/>\n<polygon fill=\"black\" stroke=\"black\" points=\"1007.27,-346.17 998.56,-340.13 1001.6,-350.28 1007.27,-346.17\"/>\n<text text-anchor=\"middle\" x=\"1043.47\" y=\"-361.8\" font-family=\"Times,serif\" font-size=\"14.00\">Deploys</text>\n</g>\n<!-- IntelligentInterface -->\n<g id=\"node6\" class=\"node\">\n<title>IntelligentInterface</title>\n<polygon fill=\"none\" stroke=\"black\" points=\"1132.47,-300.5 1132.47,-325.5 1520.47,-325.5 1520.47,-300.5 1132.47,-300.5\"/>\n<text text-anchor=\"start\" x=\"1274.47\" y=\"-309.3\" font-family=\"Times,serif\" font-size=\"14.00\">IntelligentInterface</text>\n<polygon fill=\"none\" stroke=\"black\" points=\"1132.47,-260.5 1132.47,-298.5 1520.47,-298.5 1520.47,-260.5 1132.47,-260.5\"/>\n<text text-anchor=\"start\" x=\"1137.47\" y=\"-283.3\" font-family=\"Times,serif\" font-weight=\"bold\" font-size=\"14.00\">functionality:</text>\n<text text-anchor=\"start\" x=\"1216.47\" y=\"-283.3\" font-family=\"Times,serif\" font-size=\"14.00\"> User&#45;friendly interface for interacting with the system</text>\n<text text-anchor=\"start\" x=\"1146.97\" y=\"-269.3\" font-family=\"Times,serif\" font-weight=\"bold\" font-size=\"14.00\">features:</text>\n<text text-anchor=\"start\" x=\"1198.97\" y=\"-269.3\" font-family=\"Times,serif\" font-size=\"14.00\"> [&#39;Visualization of analysis results&#39;, &#39;Interactive controls&#39;]</text>\n<polygon fill=\"none\" stroke=\"black\" points=\"1129.47,-258 1129.47,-329 1523.47,-329 1523.47,-258 1129.47,-258\"/>\n</g>\n<!-- Program&#45;&gt;IntelligentInterface -->\n<g id=\"edge5\" class=\"edge\">\n<title>Program&#45;&gt;IntelligentInterface</title>\n<path fill=\"none\" stroke=\"black\" d=\"M1151.16,-390.98C1182.02,-374 1216.95,-354.78 1247.46,-337.98\"/>\n<polygon fill=\"black\" stroke=\"black\" points=\"1249.29,-340.97 1256.36,-333.09 1245.91,-334.84 1249.29,-340.97\"/>\n<text text-anchor=\"middle\" x=\"1239.47\" y=\"-361.8\" font-family=\"Times,serif\" font-size=\"14.00\">Incorporates</text>\n</g>\n<!-- DefectDetection -->\n<g id=\"node3\" class=\"node\">\n<title>DefectDetection</title>\n<polygon fill=\"none\" stroke=\"black\" points=\"385.47,-163.5 385.47,-188.5 637.47,-188.5 637.47,-163.5 385.47,-163.5\"/>\n<text text-anchor=\"start\" x=\"466.97\" y=\"-172.3\" font-family=\"Times,serif\" font-size=\"14.00\">DefectDetection</text>\n<polygon fill=\"none\" stroke=\"black\" points=\"385.47,-123.5 385.47,-161.5 637.47,-161.5 637.47,-123.5 385.47,-123.5\"/>\n<text text-anchor=\"start\" x=\"433.97\" y=\"-146.3\" font-family=\"Times,serif\" font-weight=\"bold\" font-size=\"14.00\">target:</text>\n<text text-anchor=\"start\" x=\"473.97\" y=\"-146.3\" font-family=\"Times,serif\" font-size=\"14.00\"> Polymeric materials</text>\n<text text-anchor=\"start\" x=\"390.47\" y=\"-132.3\" font-family=\"Times,serif\" font-weight=\"bold\" font-size=\"14.00\">techniques:</text>\n<text text-anchor=\"start\" x=\"457.47\" y=\"-132.3\" font-family=\"Times,serif\" font-size=\"14.00\"> [&#39;Tomographic image analysis&#39;]</text>\n<polygon fill=\"none\" stroke=\"black\" points=\"382.47,-121 382.47,-192 640.47,-192 640.47,-121 382.47,-121\"/>\n</g>\n<!-- Analysis&#45;&gt;DefectDetection -->\n<g id=\"edge2\" class=\"edge\">\n<title>Analysis&#45;&gt;DefectDetection</title>\n<path fill=\"none\" stroke=\"black\" d=\"M511.47,-253.81C511.47,-238.99 511.47,-221.87 511.47,-206.23\"/>\n<polygon fill=\"black\" stroke=\"black\" points=\"514.97,-206.19 511.47,-196.19 507.97,-206.19 514.97,-206.19\"/>\n<text text-anchor=\"middle\" x=\"541.97\" y=\"-217.8\" font-family=\"Times,serif\" font-size=\"14.00\">FocusesOn</text>\n</g>\n<!-- PolymericMaterials -->\n<g id=\"node4\" class=\"node\">\n<title>PolymericMaterials</title>\n<polygon fill=\"none\" stroke=\"black\" points=\"121.47,-34 121.47,-59 493.47,-59 493.47,-34 121.47,-34\"/>\n<text text-anchor=\"start\" x=\"252.97\" y=\"-42.8\" font-family=\"Times,serif\" font-size=\"14.00\">PolymericMaterials</text>\n<polygon fill=\"none\" stroke=\"black\" points=\"121.47,-7 121.47,-32 493.47,-32 493.47,-7 121.47,-7\"/>\n<text text-anchor=\"start\" x=\"126.47\" y=\"-16.8\" font-family=\"Times,serif\" font-weight=\"bold\" font-size=\"14.00\">properties:</text>\n<text text-anchor=\"start\" x=\"190.47\" y=\"-16.8\" font-family=\"Times,serif\" font-size=\"14.00\"> [&#39;Unique characteristics&#39;, &#39;Usage in various industries&#39;]</text>\n<polygon fill=\"none\" stroke=\"black\" points=\"118.47,-4 118.47,-62 496.47,-62 496.47,-4 118.47,-4\"/>\n</g>\n<!-- DefectDetection&#45;&gt;PolymericMaterials -->\n<g id=\"edge3\" class=\"edge\">\n<title>DefectDetection&#45;&gt;PolymericMaterials</title>\n<path fill=\"none\" stroke=\"black\" d=\"M446.64,-116.89C422.22,-102.35 394.51,-85.84 370.28,-71.41\"/>\n<polygon fill=\"black\" stroke=\"black\" points=\"371.9,-68.3 361.52,-66.19 368.32,-74.32 371.9,-68.3\"/>\n<text text-anchor=\"middle\" x=\"436.47\" y=\"-87.8\" font-family=\"Times,serif\" font-size=\"14.00\">Targets</text>\n</g>\n<!-- Rule 1 High Confidence Defects\n IF Analysis confidenceLevel more then 0.8\n THEN Flag the image for further review -->\n<g id=\"node7\" class=\"node\">\n<title>Rule 1 High Confidence Defects\n IF Analysis confidenceLevel more then 0.8\n THEN Flag the image for further review</title>\n<ellipse fill=\"none\" stroke=\"black\" cx=\"670.47\" cy=\"-437.5\" rx=\"181.95\" ry=\"37.45\"/>\n<text text-anchor=\"middle\" x=\"670.47\" y=\"-448.8\" font-family=\"Times,serif\" font-size=\"14.00\">Rule 1 High Confidence Defects</text>\n<text text-anchor=\"middle\" x=\"670.47\" y=\"-433.8\" font-family=\"Times,serif\" font-size=\"14.00\"> IF Analysis confidenceLevel more then 0.8</text>\n<text text-anchor=\"middle\" x=\"670.47\" y=\"-418.8\" font-family=\"Times,serif\" font-size=\"14.00\"> THEN Flag the image for further review</text>\n</g>\n<!-- Rule 1 High Confidence Defects\n IF Analysis confidenceLevel more then 0.8\n THEN Flag the image for further review&#45;&gt;Analysis -->\n<g id=\"edge7\" class=\"edge\">\n<title>Rule 1 High Confidence Defects\n IF Analysis confidenceLevel more then 0.8\n THEN Flag the image for further review&#45;&gt;Analysis</title>\n<path fill=\"none\" stroke=\"black\" d=\"M630.34,-400.67C609.69,-382.22 584.29,-359.54 562.28,-339.88\"/>\n<polygon fill=\"black\" stroke=\"black\" points=\"564.43,-337.11 554.64,-333.06 559.77,-342.33 564.43,-337.11\"/>\n<text text-anchor=\"middle\" x=\"614.97\" y=\"-361.8\" font-family=\"Times,serif\" font-size=\"14.00\">affects</text>\n</g>\n<!-- Rule 1 High Confidence Defects\n IF Analysis confidenceLevel more then 0.8\n THEN Flag the image for further review&#45;&gt;DefectDetection -->\n<g id=\"edge6\" class=\"edge\">\n<title>Rule 1 High Confidence Defects\n IF Analysis confidenceLevel more then 0.8\n THEN Flag the image for further review&#45;&gt;DefectDetection</title>\n<path fill=\"none\" stroke=\"black\" d=\"M673.65,-399.69C675.35,-359.18 672.6,-293.65 643.47,-247 632.44,-229.34 616.5,-214.33 599.49,-201.94\"/>\n<polygon fill=\"black\" stroke=\"black\" points=\"601.27,-198.92 591.07,-196.07 597.27,-204.66 601.27,-198.92\"/>\n<text text-anchor=\"middle\" x=\"690.97\" y=\"-289.8\" font-family=\"Times,serif\" font-size=\"14.00\">affects</text>\n</g>\n<!-- Rule 2 Material Specific Analysis\n IF DefectDetection target is Polymeric materials\n THEN Apply specific algorithms for polymeric materials -->\n<g id=\"node8\" class=\"node\">\n<title>Rule 2 Material Specific Analysis\n IF DefectDetection target is Polymeric materials\n THEN Apply specific algorithms for polymeric materials</title>\n<ellipse fill=\"none\" stroke=\"black\" cx=\"235.47\" cy=\"-437.5\" rx=\"235.43\" ry=\"37.45\"/>\n<text text-anchor=\"middle\" x=\"235.47\" y=\"-448.8\" font-family=\"Times,serif\" font-size=\"14.00\">Rule 2 Material Specific Analysis</text>\n<text text-anchor=\"middle\" x=\"235.47\" y=\"-433.8\" font-family=\"Times,serif\" font-size=\"14.00\"> IF DefectDetection target is Polymeric materials</text>\n<text text-anchor=\"middle\" x=\"235.47\" y=\"-418.8\" font-family=\"Times,serif\" font-size=\"14.00\"> THEN Apply specific algorithms for polymeric materials</text>\n</g>\n<!-- Rule 2 Material Specific Analysis\n IF DefectDetection target is Polymeric materials\n THEN Apply specific algorithms for polymeric materials&#45;&gt;Analysis -->\n<g id=\"edge9\" class=\"edge\">\n<title>Rule 2 Material Specific Analysis\n IF DefectDetection target is Polymeric materials\n THEN Apply specific algorithms for polymeric materials&#45;&gt;Analysis</title>\n<path fill=\"none\" stroke=\"black\" d=\"M303.34,-401.58C340.88,-382.27 387.85,-358.1 427.67,-337.61\"/>\n<polygon fill=\"black\" stroke=\"black\" points=\"429.28,-340.72 436.57,-333.03 426.08,-334.49 429.28,-340.72\"/>\n<text text-anchor=\"middle\" x=\"400.97\" y=\"-361.8\" font-family=\"Times,serif\" font-size=\"14.00\">affects</text>\n</g>\n<!-- Rule 2 Material Specific Analysis\n IF DefectDetection target is Polymeric materials\n THEN Apply specific algorithms for polymeric materials&#45;&gt;PolymericMaterials -->\n<g id=\"edge8\" class=\"edge\">\n<title>Rule 2 Material Specific Analysis\n IF DefectDetection target is Polymeric materials\n THEN Apply specific algorithms for polymeric materials&#45;&gt;PolymericMaterials</title>\n<path fill=\"none\" stroke=\"black\" d=\"M242.05,-399.71C255.44,-324.87 285.78,-155.26 299.93,-76.13\"/>\n<polygon fill=\"black\" stroke=\"black\" points=\"303.42,-76.49 301.74,-66.03 296.53,-75.26 303.42,-76.49\"/>\n<text text-anchor=\"middle\" x=\"293.97\" y=\"-217.8\" font-family=\"Times,serif\" font-size=\"14.00\">affects</text>\n</g>\n</g>\n</svg>\n",
            "text/plain": [
              "<graphviz.graphs.Digraph at 0x795115aad930>"
            ]
          },
          "metadata": {},
          "execution_count": 4
        }
      ]
    }
  ]
}